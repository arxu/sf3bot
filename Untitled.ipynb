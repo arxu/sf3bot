{
 "cells": [
  {
   "cell_type": "code",
   "execution_count": 4,
   "id": "ac5a516d-d547-4033-bb4b-7ad644172ea4",
   "metadata": {},
   "outputs": [
    {
     "name": "stderr",
     "output_type": "stream",
     "text": [
      "Failed to read value from 'dataPipe'\n"
     ]
    },
    {
     "ename": "OSError",
     "evalue": "Failed to read value from 'dataPipe'",
     "output_type": "error",
     "traceback": [
      "\u001b[0;31m---------------------------------------------------------------------------\u001b[0m",
      "\u001b[0;31mEmpty\u001b[0m                                     Traceback (most recent call last)",
      "\u001b[0;32m~/anaconda3/lib/python3.9/site-packages/MAMEToolkit/emulator/pipes/Pipe.py\u001b[0m in \u001b[0;36mreadln\u001b[0;34m(self, timeout)\u001b[0m\n\u001b[1;32m     95\u001b[0m             \u001b[0;32mtry\u001b[0m\u001b[0;34m:\u001b[0m\u001b[0;34m\u001b[0m\u001b[0;34m\u001b[0m\u001b[0m\n\u001b[0;32m---> 96\u001b[0;31m                 \u001b[0;32mreturn\u001b[0m \u001b[0mself\u001b[0m\u001b[0;34m.\u001b[0m\u001b[0mread_queue\u001b[0m\u001b[0;34m.\u001b[0m\u001b[0mget\u001b[0m\u001b[0;34m(\u001b[0m\u001b[0mtimeout\u001b[0m\u001b[0;34m=\u001b[0m\u001b[0mtimeout\u001b[0m\u001b[0;34m)\u001b[0m\u001b[0;34m\u001b[0m\u001b[0;34m\u001b[0m\u001b[0m\n\u001b[0m\u001b[1;32m     97\u001b[0m             \u001b[0;32mexcept\u001b[0m \u001b[0mException\u001b[0m \u001b[0;32mas\u001b[0m \u001b[0me\u001b[0m\u001b[0;34m:\u001b[0m\u001b[0;34m\u001b[0m\u001b[0;34m\u001b[0m\u001b[0m\n",
      "\u001b[0;32m~/anaconda3/lib/python3.9/queue.py\u001b[0m in \u001b[0;36mget\u001b[0;34m(self, block, timeout)\u001b[0m\n\u001b[1;32m    178\u001b[0m                     \u001b[0;32mif\u001b[0m \u001b[0mremaining\u001b[0m \u001b[0;34m<=\u001b[0m \u001b[0;36m0.0\u001b[0m\u001b[0;34m:\u001b[0m\u001b[0;34m\u001b[0m\u001b[0;34m\u001b[0m\u001b[0m\n\u001b[0;32m--> 179\u001b[0;31m                         \u001b[0;32mraise\u001b[0m \u001b[0mEmpty\u001b[0m\u001b[0;34m\u001b[0m\u001b[0;34m\u001b[0m\u001b[0m\n\u001b[0m\u001b[1;32m    180\u001b[0m                     \u001b[0mself\u001b[0m\u001b[0;34m.\u001b[0m\u001b[0mnot_empty\u001b[0m\u001b[0;34m.\u001b[0m\u001b[0mwait\u001b[0m\u001b[0;34m(\u001b[0m\u001b[0mremaining\u001b[0m\u001b[0;34m)\u001b[0m\u001b[0;34m\u001b[0m\u001b[0;34m\u001b[0m\u001b[0m\n",
      "\u001b[0;31mEmpty\u001b[0m: ",
      "\nDuring handling of the above exception, another exception occurred:\n",
      "\u001b[0;31mOSError\u001b[0m                                   Traceback (most recent call last)",
      "\u001b[0;32m/tmp/ipykernel_19117/417194881.py\u001b[0m in \u001b[0;36m<module>\u001b[0;34m\u001b[0m\n\u001b[1;32m     10\u001b[0m     \u001b[0mframes\u001b[0m\u001b[0;34m,\u001b[0m \u001b[0mreward\u001b[0m\u001b[0;34m,\u001b[0m \u001b[0mround_done\u001b[0m\u001b[0;34m,\u001b[0m \u001b[0mstage_done\u001b[0m\u001b[0;34m,\u001b[0m \u001b[0mgame_done\u001b[0m \u001b[0;34m=\u001b[0m \u001b[0menv\u001b[0m\u001b[0;34m.\u001b[0m\u001b[0mstep\u001b[0m\u001b[0;34m(\u001b[0m\u001b[0mmove_action\u001b[0m\u001b[0;34m,\u001b[0m \u001b[0mattack_action\u001b[0m\u001b[0;34m)\u001b[0m\u001b[0;34m\u001b[0m\u001b[0;34m\u001b[0m\u001b[0m\n\u001b[1;32m     11\u001b[0m     \u001b[0;32mif\u001b[0m \u001b[0mgame_done\u001b[0m\u001b[0;34m:\u001b[0m\u001b[0;34m\u001b[0m\u001b[0;34m\u001b[0m\u001b[0m\n\u001b[0;32m---> 12\u001b[0;31m         \u001b[0menv\u001b[0m\u001b[0;34m.\u001b[0m\u001b[0mnew_game\u001b[0m\u001b[0;34m(\u001b[0m\u001b[0;34m)\u001b[0m\u001b[0;34m\u001b[0m\u001b[0;34m\u001b[0m\u001b[0m\n\u001b[0m\u001b[1;32m     13\u001b[0m     \u001b[0;32melif\u001b[0m \u001b[0mstage_done\u001b[0m\u001b[0;34m:\u001b[0m\u001b[0;34m\u001b[0m\u001b[0;34m\u001b[0m\u001b[0m\n\u001b[1;32m     14\u001b[0m         \u001b[0menv\u001b[0m\u001b[0;34m.\u001b[0m\u001b[0mnext_stage\u001b[0m\u001b[0;34m(\u001b[0m\u001b[0;34m)\u001b[0m\u001b[0;34m\u001b[0m\u001b[0;34m\u001b[0m\u001b[0m\n",
      "\u001b[0;32m~/anaconda3/lib/python3.9/site-packages/MAMEToolkit/sf_environment/Environment.py\u001b[0m in \u001b[0;36mnew_game\u001b[0;34m(self)\u001b[0m\n\u001b[1;32m    144\u001b[0m         \u001b[0mself\u001b[0m\u001b[0;34m.\u001b[0m\u001b[0mgame_done\u001b[0m \u001b[0;34m=\u001b[0m \u001b[0;32mFalse\u001b[0m\u001b[0;34m\u001b[0m\u001b[0;34m\u001b[0m\u001b[0m\n\u001b[1;32m    145\u001b[0m         \u001b[0mself\u001b[0m\u001b[0;34m.\u001b[0m\u001b[0mstage\u001b[0m \u001b[0;34m=\u001b[0m \u001b[0;36m1\u001b[0m\u001b[0;34m\u001b[0m\u001b[0;34m\u001b[0m\u001b[0m\n\u001b[0;32m--> 146\u001b[0;31m         \u001b[0;32mreturn\u001b[0m \u001b[0mself\u001b[0m\u001b[0;34m.\u001b[0m\u001b[0mwait_for_fight_start\u001b[0m\u001b[0;34m(\u001b[0m\u001b[0;34m)\u001b[0m\u001b[0;34m\u001b[0m\u001b[0;34m\u001b[0m\u001b[0m\n\u001b[0m\u001b[1;32m    147\u001b[0m \u001b[0;34m\u001b[0m\u001b[0m\n\u001b[1;32m    148\u001b[0m     \u001b[0;31m# Steps the emulator along until the screen goes black at the very end of a game\u001b[0m\u001b[0;34m\u001b[0m\u001b[0;34m\u001b[0m\u001b[0m\n",
      "\u001b[0;32m~/anaconda3/lib/python3.9/site-packages/MAMEToolkit/sf_environment/Environment.py\u001b[0m in \u001b[0;36mwait_for_fight_start\u001b[0;34m(self)\u001b[0m\n\u001b[1;32m    102\u001b[0m         \u001b[0mdata\u001b[0m \u001b[0;34m=\u001b[0m \u001b[0mself\u001b[0m\u001b[0;34m.\u001b[0m\u001b[0memu\u001b[0m\u001b[0;34m.\u001b[0m\u001b[0mstep\u001b[0m\u001b[0;34m(\u001b[0m\u001b[0;34m[\u001b[0m\u001b[0;34m]\u001b[0m\u001b[0;34m)\u001b[0m\u001b[0;34m\u001b[0m\u001b[0;34m\u001b[0m\u001b[0m\n\u001b[1;32m    103\u001b[0m         \u001b[0;32mwhile\u001b[0m \u001b[0mdata\u001b[0m\u001b[0;34m[\u001b[0m\u001b[0;34m\"fighting\"\u001b[0m\u001b[0;34m]\u001b[0m \u001b[0;34m==\u001b[0m \u001b[0;36m0\u001b[0m\u001b[0;34m:\u001b[0m\u001b[0;34m\u001b[0m\u001b[0;34m\u001b[0m\u001b[0m\n\u001b[0;32m--> 104\u001b[0;31m             \u001b[0mdata\u001b[0m \u001b[0;34m=\u001b[0m \u001b[0mself\u001b[0m\u001b[0;34m.\u001b[0m\u001b[0memu\u001b[0m\u001b[0;34m.\u001b[0m\u001b[0mstep\u001b[0m\u001b[0;34m(\u001b[0m\u001b[0;34m[\u001b[0m\u001b[0;34m]\u001b[0m\u001b[0;34m)\u001b[0m\u001b[0;34m\u001b[0m\u001b[0;34m\u001b[0m\u001b[0m\n\u001b[0m\u001b[1;32m    105\u001b[0m         \u001b[0mself\u001b[0m\u001b[0;34m.\u001b[0m\u001b[0mexpected_health\u001b[0m \u001b[0;34m=\u001b[0m \u001b[0;34m{\u001b[0m\u001b[0;34m\"P1\"\u001b[0m\u001b[0;34m:\u001b[0m \u001b[0mdata\u001b[0m\u001b[0;34m[\u001b[0m\u001b[0;34m\"healthP1\"\u001b[0m\u001b[0;34m]\u001b[0m\u001b[0;34m,\u001b[0m \u001b[0;34m\"P2\"\u001b[0m\u001b[0;34m:\u001b[0m \u001b[0mdata\u001b[0m\u001b[0;34m[\u001b[0m\u001b[0;34m\"healthP2\"\u001b[0m\u001b[0;34m]\u001b[0m\u001b[0;34m}\u001b[0m\u001b[0;34m\u001b[0m\u001b[0;34m\u001b[0m\u001b[0m\n\u001b[1;32m    106\u001b[0m         \u001b[0mdata\u001b[0m \u001b[0;34m=\u001b[0m \u001b[0mself\u001b[0m\u001b[0;34m.\u001b[0m\u001b[0mgather_frames\u001b[0m\u001b[0;34m(\u001b[0m\u001b[0;34m[\u001b[0m\u001b[0;34m]\u001b[0m\u001b[0;34m)\u001b[0m\u001b[0;34m\u001b[0m\u001b[0;34m\u001b[0m\u001b[0m\n",
      "\u001b[0;32m~/anaconda3/lib/python3.9/site-packages/MAMEToolkit/emulator/Emulator.py\u001b[0m in \u001b[0;36mstep\u001b[0;34m(self, actions)\u001b[0m\n\u001b[1;32m    159\u001b[0m         \u001b[0maction_string\u001b[0m \u001b[0;34m=\u001b[0m \u001b[0mactions_to_string\u001b[0m\u001b[0;34m(\u001b[0m\u001b[0mactions\u001b[0m\u001b[0;34m)\u001b[0m\u001b[0;34m\u001b[0m\u001b[0;34m\u001b[0m\u001b[0m\n\u001b[1;32m    160\u001b[0m         \u001b[0mself\u001b[0m\u001b[0;34m.\u001b[0m\u001b[0mactionPipe\u001b[0m\u001b[0;34m.\u001b[0m\u001b[0mwriteln\u001b[0m\u001b[0;34m(\u001b[0m\u001b[0maction_string\u001b[0m\u001b[0;34m)\u001b[0m  \u001b[0;31m# sends the actions for the game to perform before the next step\u001b[0m\u001b[0;34m\u001b[0m\u001b[0;34m\u001b[0m\u001b[0m\n\u001b[0;32m--> 161\u001b[0;31m         \u001b[0mdata\u001b[0m \u001b[0;34m=\u001b[0m \u001b[0mself\u001b[0m\u001b[0;34m.\u001b[0m\u001b[0mdataPipe\u001b[0m\u001b[0;34m.\u001b[0m\u001b[0mread_data\u001b[0m\u001b[0;34m(\u001b[0m\u001b[0mtimeout\u001b[0m\u001b[0;34m=\u001b[0m\u001b[0;36m10\u001b[0m\u001b[0;34m)\u001b[0m  \u001b[0;31m# gathers the frame data and memory address values\u001b[0m\u001b[0;34m\u001b[0m\u001b[0;34m\u001b[0m\u001b[0m\n\u001b[0m\u001b[1;32m    162\u001b[0m         \u001b[0;32mreturn\u001b[0m \u001b[0mdata\u001b[0m\u001b[0;34m\u001b[0m\u001b[0;34m\u001b[0m\u001b[0m\n\u001b[1;32m    163\u001b[0m \u001b[0;34m\u001b[0m\u001b[0m\n",
      "\u001b[0;32m~/anaconda3/lib/python3.9/site-packages/MAMEToolkit/emulator/pipes/DataPipe.py\u001b[0m in \u001b[0;36mread_data\u001b[0;34m(self, timeout)\u001b[0m\n\u001b[1;32m     25\u001b[0m     \u001b[0;32mdef\u001b[0m \u001b[0mread_data\u001b[0m\u001b[0;34m(\u001b[0m\u001b[0mself\u001b[0m\u001b[0;34m,\u001b[0m \u001b[0mtimeout\u001b[0m\u001b[0;34m=\u001b[0m\u001b[0;36m10\u001b[0m\u001b[0;34m)\u001b[0m\u001b[0;34m:\u001b[0m\u001b[0;34m\u001b[0m\u001b[0;34m\u001b[0m\u001b[0m\n\u001b[1;32m     26\u001b[0m         \u001b[0mdata\u001b[0m \u001b[0;34m=\u001b[0m \u001b[0;34m{\u001b[0m\u001b[0;34m}\u001b[0m\u001b[0;34m\u001b[0m\u001b[0;34m\u001b[0m\u001b[0m\n\u001b[0;32m---> 27\u001b[0;31m         \u001b[0mline\u001b[0m \u001b[0;34m=\u001b[0m \u001b[0mself\u001b[0m\u001b[0;34m.\u001b[0m\u001b[0mpipe\u001b[0m\u001b[0;34m.\u001b[0m\u001b[0mreadln\u001b[0m\u001b[0;34m(\u001b[0m\u001b[0mtimeout\u001b[0m\u001b[0;34m=\u001b[0m\u001b[0mtimeout\u001b[0m\u001b[0;34m)\u001b[0m\u001b[0;34m\u001b[0m\u001b[0;34m\u001b[0m\u001b[0m\n\u001b[0m\u001b[1;32m     28\u001b[0m         \u001b[0mcursor\u001b[0m \u001b[0;34m=\u001b[0m \u001b[0;36m0\u001b[0m\u001b[0;34m\u001b[0m\u001b[0;34m\u001b[0m\u001b[0m\n\u001b[1;32m     29\u001b[0m         \u001b[0;32mfor\u001b[0m \u001b[0mk\u001b[0m \u001b[0;32min\u001b[0m \u001b[0mself\u001b[0m\u001b[0;34m.\u001b[0m\u001b[0maddresses\u001b[0m\u001b[0;34m.\u001b[0m\u001b[0mkeys\u001b[0m\u001b[0;34m(\u001b[0m\u001b[0;34m)\u001b[0m\u001b[0;34m:\u001b[0m\u001b[0;34m\u001b[0m\u001b[0;34m\u001b[0m\u001b[0m\n",
      "\u001b[0;32m~/anaconda3/lib/python3.9/site-packages/MAMEToolkit/emulator/pipes/Pipe.py\u001b[0m in \u001b[0;36mreadln\u001b[0;34m(self, timeout)\u001b[0m\n\u001b[1;32m     98\u001b[0m                 \u001b[0merror\u001b[0m \u001b[0;34m=\u001b[0m \u001b[0;34m\"Failed to read value from '\"\u001b[0m\u001b[0;34m+\u001b[0m\u001b[0mself\u001b[0m\u001b[0;34m.\u001b[0m\u001b[0mpipeId\u001b[0m\u001b[0;34m+\u001b[0m\u001b[0;34m\"'\"\u001b[0m\u001b[0;34m\u001b[0m\u001b[0;34m\u001b[0m\u001b[0m\n\u001b[1;32m     99\u001b[0m                 \u001b[0mself\u001b[0m\u001b[0;34m.\u001b[0m\u001b[0mlogger\u001b[0m\u001b[0;34m.\u001b[0m\u001b[0merror\u001b[0m\u001b[0;34m(\u001b[0m\u001b[0merror\u001b[0m\u001b[0;34m)\u001b[0m\u001b[0;34m\u001b[0m\u001b[0;34m\u001b[0m\u001b[0m\n\u001b[0;32m--> 100\u001b[0;31m                 \u001b[0;32mraise\u001b[0m \u001b[0mIOError\u001b[0m\u001b[0;34m(\u001b[0m\u001b[0merror\u001b[0m\u001b[0;34m)\u001b[0m\u001b[0;34m\u001b[0m\u001b[0;34m\u001b[0m\u001b[0m\n\u001b[0m\u001b[1;32m    101\u001b[0m         \u001b[0;32melse\u001b[0m\u001b[0;34m:\u001b[0m\u001b[0;34m\u001b[0m\u001b[0;34m\u001b[0m\u001b[0m\n\u001b[1;32m    102\u001b[0m             \u001b[0merror\u001b[0m \u001b[0;34m=\u001b[0m \u001b[0;34m\"Attempted to read from '\"\u001b[0m\u001b[0;34m+\u001b[0m\u001b[0mstr\u001b[0m\u001b[0;34m(\u001b[0m\u001b[0mself\u001b[0m\u001b[0;34m.\u001b[0m\u001b[0mpath\u001b[0m\u001b[0;34m.\u001b[0m\u001b[0mabsolute\u001b[0m\u001b[0;34m(\u001b[0m\u001b[0;34m)\u001b[0m\u001b[0;34m)\u001b[0m\u001b[0;34m+\u001b[0m\u001b[0;34m\"' in '\"\u001b[0m\u001b[0;34m+\u001b[0m\u001b[0mstr\u001b[0m\u001b[0;34m(\u001b[0m\u001b[0mself\u001b[0m\u001b[0;34m.\u001b[0m\u001b[0mmode\u001b[0m\u001b[0;34m)\u001b[0m\u001b[0;34m+\u001b[0m\u001b[0;34m\"' mode\"\u001b[0m\u001b[0;34m\u001b[0m\u001b[0;34m\u001b[0m\u001b[0m\n",
      "\u001b[0;31mOSError\u001b[0m: Failed to read value from 'dataPipe'"
     ]
    }
   ],
   "source": [
    "import random\n",
    "from MAMEToolkit.sf_environment import Environment\n",
    "\n",
    "roms_path = \"/home/a/Downloads/sf3bot/roms/\"\n",
    "env = Environment(\"env1\", roms_path)\n",
    "env.start()\n",
    "while True:\n",
    "    move_action = random.randint(0, 8)\n",
    "    attack_action = random.randint(0, 9)\n",
    "    frames, reward, round_done, stage_done, game_done = env.step(move_action, attack_action)\n",
    "    if game_done:\n",
    "        env.new_game()\n",
    "    elif stage_done:\n",
    "        env.next_stage()\n",
    "    elif round_done:\n",
    "        env.next_round()"
   ]
  },
  {
   "cell_type": "code",
   "execution_count": 4,
   "id": "f81f0f5e-deb1-43b8-b8cc-701406e56972",
   "metadata": {},
   "outputs": [
    {
     "name": "stderr",
     "output_type": "stream",
     "text": [
      "No output expected from command 'mem = manager:machine().devices[\":maincpu\"].spaces[\"program\"]', but recieved: error: \t[string \"mem = manager:machine().devices[\":maincpu\"].s...\"]:1: attempt to index a nil value (field ':maincpu')\n"
     ]
    },
    {
     "ename": "OSError",
     "evalue": "No output expected from command 'mem = manager:machine().devices[\":maincpu\"].spaces[\"program\"]', but recieved: error: \t[string \"mem = manager:machine().devices[\":maincpu\"].s...\"]:1: attempt to index a nil value (field ':maincpu')",
     "output_type": "error",
     "traceback": [
      "\u001b[0;31m---------------------------------------------------------------------------\u001b[0m",
      "\u001b[0;31mOSError\u001b[0m                                   Traceback (most recent call last)",
      "\u001b[0;32m/tmp/ipykernel_7577/4121110081.py\u001b[0m in \u001b[0;36m<module>\u001b[0;34m\u001b[0m\n\u001b[1;32m      1\u001b[0m \u001b[0;32mfrom\u001b[0m \u001b[0mMAMEToolkit\u001b[0m\u001b[0;34m.\u001b[0m\u001b[0memulator\u001b[0m \u001b[0;32mimport\u001b[0m \u001b[0msee_games\u001b[0m\u001b[0;34m\u001b[0m\u001b[0;34m\u001b[0m\u001b[0m\n\u001b[0;32m----> 2\u001b[0;31m \u001b[0msee_games\u001b[0m\u001b[0;34m(\u001b[0m\u001b[0;34m)\u001b[0m\u001b[0;34m\u001b[0m\u001b[0;34m\u001b[0m\u001b[0m\n\u001b[0m",
      "\u001b[0;32m~/anaconda3/lib/python3.9/site-packages/MAMEToolkit/emulator/Emulator.py\u001b[0m in \u001b[0;36msee_games\u001b[0;34m(binary_path)\u001b[0m\n\u001b[1;32m     31\u001b[0m \u001b[0;34m\u001b[0m\u001b[0m\n\u001b[1;32m     32\u001b[0m \u001b[0;32mdef\u001b[0m \u001b[0msee_games\u001b[0m\u001b[0;34m(\u001b[0m\u001b[0mbinary_path\u001b[0m\u001b[0;34m=\u001b[0m\u001b[0;32mNone\u001b[0m\u001b[0;34m)\u001b[0m\u001b[0;34m:\u001b[0m\u001b[0;34m\u001b[0m\u001b[0;34m\u001b[0m\u001b[0m\n\u001b[0;32m---> 33\u001b[0;31m     \u001b[0mEmulator\u001b[0m\u001b[0;34m(\u001b[0m\u001b[0;34m\"env1\"\u001b[0m\u001b[0;34m,\u001b[0m \u001b[0;34m\"\"\u001b[0m\u001b[0;34m,\u001b[0m \u001b[0;34m\"\"\u001b[0m\u001b[0;34m,\u001b[0m \u001b[0;34m{\u001b[0m\u001b[0;34m}\u001b[0m\u001b[0;34m,\u001b[0m \u001b[0mbinary_path\u001b[0m\u001b[0;34m=\u001b[0m\u001b[0mbinary_path\u001b[0m\u001b[0;34m)\u001b[0m\u001b[0;34m\u001b[0m\u001b[0;34m\u001b[0m\u001b[0m\n\u001b[0m\u001b[1;32m     34\u001b[0m \u001b[0;34m\u001b[0m\u001b[0m\n\u001b[1;32m     35\u001b[0m \u001b[0;34m\u001b[0m\u001b[0m\n",
      "\u001b[0;32m~/anaconda3/lib/python3.9/site-packages/MAMEToolkit/emulator/Emulator.py\u001b[0m in \u001b[0;36m__init__\u001b[0;34m(self, env_id, roms_path, game_id, memory_addresses, frame_ratio, render, throttle, frame_skip, sound, debug, binary_path)\u001b[0m\n\u001b[1;32m     54\u001b[0m         \u001b[0matexit\u001b[0m\u001b[0;34m.\u001b[0m\u001b[0mregister\u001b[0m\u001b[0;34m(\u001b[0m\u001b[0mself\u001b[0m\u001b[0;34m.\u001b[0m\u001b[0mclose\u001b[0m\u001b[0;34m)\u001b[0m\u001b[0;34m\u001b[0m\u001b[0;34m\u001b[0m\u001b[0m\n\u001b[1;32m     55\u001b[0m         \u001b[0mself\u001b[0m\u001b[0;34m.\u001b[0m\u001b[0mwait_for_resource_registration\u001b[0m\u001b[0;34m(\u001b[0m\u001b[0;34m)\u001b[0m\u001b[0;34m\u001b[0m\u001b[0;34m\u001b[0m\u001b[0m\n\u001b[0;32m---> 56\u001b[0;31m         \u001b[0mself\u001b[0m\u001b[0;34m.\u001b[0m\u001b[0mcreate_lua_variables\u001b[0m\u001b[0;34m(\u001b[0m\u001b[0;34m)\u001b[0m\u001b[0;34m\u001b[0m\u001b[0;34m\u001b[0m\u001b[0m\n\u001b[0m\u001b[1;32m     57\u001b[0m         \u001b[0mbitmap_format\u001b[0m \u001b[0;34m=\u001b[0m \u001b[0mself\u001b[0m\u001b[0;34m.\u001b[0m\u001b[0mget_bitmap_format\u001b[0m\u001b[0;34m(\u001b[0m\u001b[0;34m)\u001b[0m\u001b[0;34m\u001b[0m\u001b[0;34m\u001b[0m\u001b[0m\n\u001b[1;32m     58\u001b[0m         \u001b[0mscreen_width\u001b[0m \u001b[0;34m=\u001b[0m \u001b[0mself\u001b[0m\u001b[0;34m.\u001b[0m\u001b[0msetup_screen_width\u001b[0m\u001b[0;34m(\u001b[0m\u001b[0;34m)\u001b[0m\u001b[0;34m\u001b[0m\u001b[0;34m\u001b[0m\u001b[0m\n",
      "\u001b[0;32m~/anaconda3/lib/python3.9/site-packages/MAMEToolkit/emulator/Emulator.py\u001b[0m in \u001b[0;36mcreate_lua_variables\u001b[0;34m(self)\u001b[0m\n\u001b[1;32m     89\u001b[0m         \u001b[0mself\u001b[0m\u001b[0;34m.\u001b[0m\u001b[0mconsole\u001b[0m\u001b[0;34m.\u001b[0m\u001b[0mwriteln\u001b[0m\u001b[0;34m(\u001b[0m\u001b[0;34m'iop = manager:machine():ioport()'\u001b[0m\u001b[0;34m)\u001b[0m\u001b[0;34m\u001b[0m\u001b[0;34m\u001b[0m\u001b[0m\n\u001b[1;32m     90\u001b[0m         \u001b[0mself\u001b[0m\u001b[0;34m.\u001b[0m\u001b[0mconsole\u001b[0m\u001b[0;34m.\u001b[0m\u001b[0mwriteln\u001b[0m\u001b[0;34m(\u001b[0m\u001b[0;34m's = manager:machine().screens[\":screen\"]'\u001b[0m\u001b[0;34m)\u001b[0m\u001b[0;34m\u001b[0m\u001b[0;34m\u001b[0m\u001b[0m\n\u001b[0;32m---> 91\u001b[0;31m         \u001b[0mself\u001b[0m\u001b[0;34m.\u001b[0m\u001b[0mconsole\u001b[0m\u001b[0;34m.\u001b[0m\u001b[0mwriteln\u001b[0m\u001b[0;34m(\u001b[0m\u001b[0;34m'mem = manager:machine().devices[\":maincpu\"].spaces[\"program\"]'\u001b[0m\u001b[0;34m)\u001b[0m\u001b[0;34m\u001b[0m\u001b[0;34m\u001b[0m\u001b[0m\n\u001b[0m\u001b[1;32m     92\u001b[0m         \u001b[0mself\u001b[0m\u001b[0;34m.\u001b[0m\u001b[0mconsole\u001b[0m\u001b[0;34m.\u001b[0m\u001b[0mwriteln\u001b[0m\u001b[0;34m(\u001b[0m\u001b[0;34m'releaseQueue = {}'\u001b[0m\u001b[0;34m)\u001b[0m\u001b[0;34m\u001b[0m\u001b[0;34m\u001b[0m\u001b[0m\n\u001b[1;32m     93\u001b[0m \u001b[0;34m\u001b[0m\u001b[0m\n",
      "\u001b[0;32m~/anaconda3/lib/python3.9/site-packages/MAMEToolkit/emulator/Console.py\u001b[0m in \u001b[0;36mwriteln\u001b[0;34m(self, command, expect_output, timeout, raiseError)\u001b[0m\n\u001b[1;32m     92\u001b[0m             \u001b[0;32mif\u001b[0m \u001b[0mraiseError\u001b[0m\u001b[0;34m:\u001b[0m\u001b[0;34m\u001b[0m\u001b[0;34m\u001b[0m\u001b[0m\n\u001b[1;32m     93\u001b[0m                 \u001b[0mself\u001b[0m\u001b[0;34m.\u001b[0m\u001b[0mlogger\u001b[0m\u001b[0;34m.\u001b[0m\u001b[0merror\u001b[0m\u001b[0;34m(\u001b[0m\u001b[0merror\u001b[0m\u001b[0;34m)\u001b[0m\u001b[0;34m\u001b[0m\u001b[0;34m\u001b[0m\u001b[0m\n\u001b[0;32m---> 94\u001b[0;31m                 \u001b[0;32mraise\u001b[0m \u001b[0mIOError\u001b[0m\u001b[0;34m(\u001b[0m\u001b[0merror\u001b[0m\u001b[0;34m)\u001b[0m\u001b[0;34m\u001b[0m\u001b[0;34m\u001b[0m\u001b[0m\n\u001b[0m\u001b[1;32m     95\u001b[0m             \u001b[0;32melse\u001b[0m\u001b[0;34m:\u001b[0m\u001b[0;34m\u001b[0m\u001b[0;34m\u001b[0m\u001b[0m\n\u001b[1;32m     96\u001b[0m                 \u001b[0;32mreturn\u001b[0m \u001b[0;32mNone\u001b[0m\u001b[0;34m\u001b[0m\u001b[0;34m\u001b[0m\u001b[0m\n",
      "\u001b[0;31mOSError\u001b[0m: No output expected from command 'mem = manager:machine().devices[\":maincpu\"].spaces[\"program\"]', but recieved: error: \t[string \"mem = manager:machine().devices[\":maincpu\"].s...\"]:1: attempt to index a nil value (field ':maincpu')"
     ]
    }
   ],
   "source": [
    "from MAMEToolkit.emulator import see_games\n",
    "see_games()"
   ]
  },
  {
   "cell_type": "code",
   "execution_count": 8,
   "id": "66445ad7-17db-4260-adc9-584512e94ca3",
   "metadata": {},
   "outputs": [
    {
     "data": {
      "text/plain": [
       "[None, None, None, None]"
      ]
     },
     "execution_count": 8,
     "metadata": {},
     "output_type": "execute_result"
    },
    {
     "name": "stderr",
     "output_type": "stream",
     "text": [
      "Process Process-20:\n",
      "Process Process-18:\n",
      "Process Process-17:\n",
      "Process Process-19:\n",
      "Traceback (most recent call last):\n",
      "Traceback (most recent call last):\n",
      "Traceback (most recent call last):\n",
      "Traceback (most recent call last):\n",
      "  File \"/home/a/anaconda3/lib/python3.9/multiprocessing/process.py\", line 315, in _bootstrap\n",
      "    self.run()\n",
      "  File \"/home/a/anaconda3/lib/python3.9/multiprocessing/process.py\", line 315, in _bootstrap\n",
      "    self.run()\n",
      "  File \"/home/a/anaconda3/lib/python3.9/multiprocessing/process.py\", line 315, in _bootstrap\n",
      "    self.run()\n",
      "  File \"/home/a/anaconda3/lib/python3.9/multiprocessing/process.py\", line 108, in run\n",
      "    self._target(*self._args, **self._kwargs)\n",
      "  File \"/home/a/anaconda3/lib/python3.9/multiprocessing/process.py\", line 315, in _bootstrap\n",
      "    self.run()\n",
      "  File \"/home/a/anaconda3/lib/python3.9/multiprocessing/process.py\", line 108, in run\n",
      "    self._target(*self._args, **self._kwargs)\n",
      "  File \"/home/a/anaconda3/lib/python3.9/multiprocessing/process.py\", line 108, in run\n",
      "    self._target(*self._args, **self._kwargs)\n",
      "  File \"/tmp/ipykernel_19117/3363561292.py\", line 18, in run_env\n",
      "    env.next_round()\n",
      "  File \"/home/a/anaconda3/lib/python3.9/multiprocessing/process.py\", line 108, in run\n",
      "    self._target(*self._args, **self._kwargs)\n",
      "  File \"/tmp/ipykernel_19117/3363561292.py\", line 12, in run_env\n",
      "    frames, reward, round_done, stage_done, game_done = env.step(move_action, attack_action)\n",
      "  File \"/tmp/ipykernel_19117/3363561292.py\", line 12, in run_env\n",
      "    frames, reward, round_done, stage_done, game_done = env.step(move_action, attack_action)\n",
      "  File \"/tmp/ipykernel_19117/3363561292.py\", line 12, in run_env\n",
      "    frames, reward, round_done, stage_done, game_done = env.step(move_action, attack_action)\n",
      "  File \"/home/a/anaconda3/lib/python3.9/site-packages/MAMEToolkit/sf_environment/Environment.py\", line 211, in step\n",
      "    data = self.gather_frames(actions)\n",
      "  File \"/home/a/anaconda3/lib/python3.9/site-packages/MAMEToolkit/sf_environment/Environment.py\", line 124, in next_round\n",
      "    return self.wait_for_fight_start()\n",
      "  File \"/home/a/anaconda3/lib/python3.9/site-packages/MAMEToolkit/sf_environment/Environment.py\", line 211, in step\n",
      "    data = self.gather_frames(actions)\n",
      "  File \"/home/a/anaconda3/lib/python3.9/site-packages/MAMEToolkit/sf_environment/Environment.py\", line 179, in gather_frames\n",
      "    data = self.sub_step(actions)\n",
      "  File \"/home/a/anaconda3/lib/python3.9/site-packages/MAMEToolkit/sf_environment/Environment.py\", line 104, in wait_for_fight_start\n",
      "    data = self.emu.step([])\n",
      "  File \"/home/a/anaconda3/lib/python3.9/site-packages/MAMEToolkit/sf_environment/Environment.py\", line 211, in step\n",
      "    data = self.gather_frames(actions)\n",
      "  File \"/home/a/anaconda3/lib/python3.9/site-packages/MAMEToolkit/sf_environment/Environment.py\", line 179, in gather_frames\n",
      "    data = self.sub_step(actions)\n",
      "  File \"/home/a/anaconda3/lib/python3.9/site-packages/MAMEToolkit/emulator/Emulator.py\", line 161, in step\n",
      "    data = self.dataPipe.read_data(timeout=10)  # gathers the frame data and memory address values\n",
      "  File \"/home/a/anaconda3/lib/python3.9/site-packages/MAMEToolkit/sf_environment/Environment.py\", line 190, in sub_step\n",
      "    data = self.emu.step([action.value for action in actions])\n",
      "  File \"/home/a/anaconda3/lib/python3.9/site-packages/MAMEToolkit/sf_environment/Environment.py\", line 179, in gather_frames\n",
      "    data = self.sub_step(actions)\n",
      "  File \"/home/a/anaconda3/lib/python3.9/site-packages/MAMEToolkit/sf_environment/Environment.py\", line 190, in sub_step\n",
      "    data = self.emu.step([action.value for action in actions])\n",
      "  File \"/home/a/anaconda3/lib/python3.9/site-packages/MAMEToolkit/emulator/pipes/DataPipe.py\", line 27, in read_data\n",
      "    line = self.pipe.readln(timeout=timeout)\n",
      "  File \"/home/a/anaconda3/lib/python3.9/site-packages/MAMEToolkit/emulator/Emulator.py\", line 161, in step\n",
      "    data = self.dataPipe.read_data(timeout=10)  # gathers the frame data and memory address values\n",
      "  File \"/home/a/anaconda3/lib/python3.9/site-packages/MAMEToolkit/emulator/Emulator.py\", line 161, in step\n",
      "    data = self.dataPipe.read_data(timeout=10)  # gathers the frame data and memory address values\n",
      "  File \"/home/a/anaconda3/lib/python3.9/site-packages/MAMEToolkit/sf_environment/Environment.py\", line 190, in sub_step\n",
      "    data = self.emu.step([action.value for action in actions])\n",
      "  File \"/home/a/anaconda3/lib/python3.9/site-packages/MAMEToolkit/emulator/pipes/Pipe.py\", line 96, in readln\n",
      "    return self.read_queue.get(timeout=timeout)\n",
      "  File \"/home/a/anaconda3/lib/python3.9/site-packages/MAMEToolkit/emulator/pipes/DataPipe.py\", line 27, in read_data\n",
      "    line = self.pipe.readln(timeout=timeout)\n",
      "  File \"/home/a/anaconda3/lib/python3.9/site-packages/MAMEToolkit/emulator/pipes/DataPipe.py\", line 27, in read_data\n",
      "    line = self.pipe.readln(timeout=timeout)\n",
      "  File \"/home/a/anaconda3/lib/python3.9/site-packages/MAMEToolkit/emulator/pipes/Pipe.py\", line 96, in readln\n",
      "    return self.read_queue.get(timeout=timeout)\n",
      "  File \"/home/a/anaconda3/lib/python3.9/site-packages/MAMEToolkit/emulator/Emulator.py\", line 161, in step\n",
      "    data = self.dataPipe.read_data(timeout=10)  # gathers the frame data and memory address values\n",
      "  File \"/home/a/anaconda3/lib/python3.9/site-packages/MAMEToolkit/emulator/pipes/Pipe.py\", line 96, in readln\n",
      "    return self.read_queue.get(timeout=timeout)\n",
      "  File \"/home/a/anaconda3/lib/python3.9/queue.py\", line 180, in get\n",
      "    self.not_empty.wait(remaining)\n",
      "  File \"/home/a/anaconda3/lib/python3.9/queue.py\", line 180, in get\n",
      "    self.not_empty.wait(remaining)\n",
      "  File \"/home/a/anaconda3/lib/python3.9/threading.py\", line 316, in wait\n",
      "    gotit = waiter.acquire(True, timeout)\n",
      "  File \"/home/a/anaconda3/lib/python3.9/site-packages/MAMEToolkit/emulator/pipes/DataPipe.py\", line 27, in read_data\n",
      "    line = self.pipe.readln(timeout=timeout)\n",
      "  File \"/home/a/anaconda3/lib/python3.9/threading.py\", line 316, in wait\n",
      "    gotit = waiter.acquire(True, timeout)\n",
      "KeyboardInterrupt\n",
      "  File \"/home/a/anaconda3/lib/python3.9/site-packages/MAMEToolkit/emulator/pipes/Pipe.py\", line 96, in readln\n",
      "    return self.read_queue.get(timeout=timeout)\n",
      "  File \"/home/a/anaconda3/lib/python3.9/queue.py\", line 180, in get\n",
      "    self.not_empty.wait(remaining)\n",
      "  File \"/home/a/anaconda3/lib/python3.9/threading.py\", line 316, in wait\n",
      "    gotit = waiter.acquire(True, timeout)\n",
      "KeyboardInterrupt\n",
      "KeyboardInterrupt\n",
      "  File \"/home/a/anaconda3/lib/python3.9/queue.py\", line 180, in get\n",
      "    self.not_empty.wait(remaining)\n",
      "  File \"/home/a/anaconda3/lib/python3.9/threading.py\", line 316, in wait\n",
      "    gotit = waiter.acquire(True, timeout)\n",
      "KeyboardInterrupt\n"
     ]
    }
   ],
   "source": [
    "from multiprocessing import Process\n",
    "import random\n",
    "from MAMEToolkit.sf_environment import Environment\n",
    "\n",
    "\n",
    "def run_env(worker_id, roms_path):\n",
    "    env = Environment(f\"env{worker_id}\", roms_path, 3, 1, 1)\n",
    "    env.start()\n",
    "    while True:\n",
    "        move_action = random.randint(0, 8)\n",
    "        attack_action = random.randint(0, 9)\n",
    "        frames, reward, round_done, stage_done, game_done = env.step(move_action, attack_action)\n",
    "        if game_done:\n",
    "            env.new_game()\n",
    "        elif stage_done:\n",
    "            env.next_stage()\n",
    "        elif round_done:\n",
    "            env.next_round()\n",
    "\n",
    "\n",
    "workers = 4\n",
    "# Environments must be created outside of the threads\n",
    "roms_path = \"/home/a/Downloads/sf3bot/roms/\"\n",
    "threads = [Process(target=run_env, args=(i, roms_path)) for i in range(workers)]\n",
    "[thread.start() for thread in threads]"
   ]
  },
  {
   "cell_type": "code",
   "execution_count": null,
   "id": "72b663a1-9341-43c5-8d91-8be032b464d8",
   "metadata": {},
   "outputs": [],
   "source": []
  }
 ],
 "metadata": {
  "kernelspec": {
   "display_name": "Python 3 (ipykernel)",
   "language": "python",
   "name": "python3"
  },
  "language_info": {
   "codemirror_mode": {
    "name": "ipython",
    "version": 3
   },
   "file_extension": ".py",
   "mimetype": "text/x-python",
   "name": "python",
   "nbconvert_exporter": "python",
   "pygments_lexer": "ipython3",
   "version": "3.9.7"
  }
 },
 "nbformat": 4,
 "nbformat_minor": 5
}
